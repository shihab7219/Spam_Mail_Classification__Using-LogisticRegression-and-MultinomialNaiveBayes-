{
 "cells": [
  {
   "cell_type": "code",
   "execution_count": 1,
   "id": "8b92b942",
   "metadata": {},
   "outputs": [],
   "source": [
    "#importing Importent Libraries\n",
    "\n",
    "#Data Handeling\n",
    "\n",
    "import pandas as pd \n",
    "import numpy as np \n",
    "\n",
    "\n",
    "#Data Visualization\n",
    "import matplotlib.pyplot as plt\n",
    "import seaborn as sns\n",
    "\n",
    "#Text Preprocessing\n",
    "\n",
    "import nltk\n",
    "import string\n",
    "from nltk.corpus import stopwords, words\n",
    "from nltk.tokenize import word_tokenize\n",
    "\n",
    "#Machine Learning Algorithm\n",
    "\n",
    "from sklearn.linear_model import LogisticRegression\n",
    "from sklearn.model_selection import GridSearchCV\n",
    "from sklearn.feature_extraction.text import TfidfVectorizer ,CountVectorizer\n",
    "from sklearn.model_selection import RandomizedSearchCV\n",
    "from sklearn.model_selection import train_test_split\n",
    "\n",
    "# Model Evaluation\n",
    "\n",
    "from sklearn.metrics import accuracy_score , classification_report, confusion_matrix "
   ]
  },
  {
   "cell_type": "markdown",
   "id": "7e76ca4a",
   "metadata": {},
   "source": [
    "# importing dataset"
   ]
  },
  {
   "cell_type": "code",
   "execution_count": 2,
   "id": "e3842f39",
   "metadata": {},
   "outputs": [],
   "source": [
    "import warnings \n",
    "warnings.filterwarnings(\"ignore\")\n",
    "data_set = pd.read_csv(\"spam_ham_dataset.csv\")\n",
    "\n",
    "data_set = data_set.drop(\"Unnamed: 0\" , axis = 1)\n",
    "\n",
    "data_set = data_set.rename({\"label_num\":\"class\" }, axis = 1)\n",
    "\n",
    "data_set.columns = [\"label\",\"text\",\"class\"]"
   ]
  },
  {
   "cell_type": "markdown",
   "id": "19681252",
   "metadata": {},
   "source": [
    "# Data set Visualization"
   ]
  },
  {
   "cell_type": "code",
   "execution_count": 3,
   "id": "12927ba2",
   "metadata": {},
   "outputs": [
    {
     "data": {
      "text/plain": [
       "(4993, 3)"
      ]
     },
     "execution_count": 3,
     "metadata": {},
     "output_type": "execute_result"
    }
   ],
   "source": [
    "data_set.drop_duplicates(inplace=True)\n",
    "\n",
    "data_set.shape"
   ]
  },
  {
   "cell_type": "code",
   "execution_count": 4,
   "id": "a5790ccb",
   "metadata": {},
   "outputs": [
    {
     "data": {
      "text/plain": [
       "<AxesSubplot:xlabel='label', ylabel='count'>"
      ]
     },
     "execution_count": 4,
     "metadata": {},
     "output_type": "execute_result"
    },
    {
     "data": {
      "image/png": "[encoded data removed]",
      "text/plain": [
       "<Figure size 720x360 with 1 Axes>"
      ]
     },
     "metadata": {
      "needs_background": "light"
     },
     "output_type": "display_data"
    }
   ],
   "source": [
    "plt.figure(figsize = (10,5))\n",
    "sns.countplot(data = data_set ,x = \"label\",color=\"black\")"
   ]
  },
  {
   "cell_type": "code",
   "execution_count": 5,
   "id": "fd5a29f2",
   "metadata": {},
   "outputs": [
    {
     "name": "stdout",
     "output_type": "stream",
     "text": [
      "Class Label: ham\n",
      " Mail: \n",
      "Subject: enron methanol ; meter # : 988291\r\n",
      "this is a follow up to the note i gave you on monday , 4 / 3 / 00 { preliminary\r\n",
      "flow data provided by daren } .\r\n",
      "please override pop ' s daily volume { presently zero } to reflect daily\r\n",
      "activity you can obtain from gas control .\r\n",
      "this change is needed asap for economics purposes .\n",
      "\n",
      "\n",
      "Class Label: ham\n",
      " Mail: \n",
      "Subject: hpl nom for january 9 , 2001\r\n",
      "( see attached file : hplnol 09 . xls )\r\n",
      "- hplnol 09 . xls\n",
      "\n",
      "\n",
      "Class Label: ham\n",
      " Mail: \n",
      "Subject: neon retreat\r\n",
      "ho ho ho , we ' re around to that most wonderful time of the year - - - neon leaders retreat time !\r\n",
      "i know that this time of year is extremely hectic , and that it ' s tough to think about anything past the holidays , but life does go on past the week of december 25 through january 1 , and that ' s what i ' d like you to think about for a minute .\r\n",
      "on the calender that i handed out at the beginning of the fall semester , the retreat was scheduled for the weekend of january 5 - 6 . but because of a youth ministers conference that brad and dustin are connected with that week , we ' re going to change the date to the following weekend , january 12 - 13 . now comes the part you need to think about .\r\n",
      "i think we all agree that it ' s important for us to get together and have some time to recharge our batteries before we get to far into the spring semester , but it can be a lot of trouble and difficult for us to get away without kids , etc . so , brad came up with a potential alternative for how we can get together on that weekend , and then you can let me know which you prefer .\r\n",
      "the first option would be to have a retreat similar to what we ' ve done the past several years . this year we could go to the heartland country inn ( www . . com ) outside of brenham . it ' s a nice place , where we ' d have a 13 - bedroom and a 5 - bedroom house side by side . it ' s in the country , real relaxing , but also close to brenham and only about one hour and 15 minutes from here . we can golf , shop in the antique and craft stores in brenham , eat dinner together at the ranch , and spend time with each other . we ' d meet on saturday , and then return on sunday morning , just like what we ' ve done in the past .\r\n",
      "the second option would be to stay here in houston , have dinner together at a nice restaurant , and then have dessert and a time for visiting and recharging at one of our homes on that saturday evening . this might be easier , but the trade off would be that we wouldn ' t have as much time together . i ' ll let you decide .\r\n",
      "email me back with what would be your preference , and of course if you ' re available on that weekend . the democratic process will prevail - - majority vote will rule ! let me hear from you as soon as possible , preferably by the end of the weekend . and if the vote doesn ' t go your way , no complaining allowed ( like i tend to do ! )\r\n",
      "have a great weekend , great golf , great fishing , great shopping , or whatever makes you happy !\r\n",
      "bobby\n",
      "\n",
      "\n",
      "Class Label: spam\n",
      " Mail: \n",
      "Subject: photoshop , windows , office . cheap . main trending\r\n",
      "abasements darer prudently fortuitous undergone\r\n",
      "lighthearted charm orinoco taster\r\n",
      "railroad affluent pornographic cuvier\r\n",
      "irvin parkhouse blameworthy chlorophyll\r\n",
      "robed diagrammatic fogarty clears bayda\r\n",
      "inconveniencing managing represented smartness hashish\r\n",
      "academies shareholders unload badness\r\n",
      "danielson pure caffein\r\n",
      "spaniard chargeable levin\r\n",
      "\n",
      "\n",
      "\n",
      "Class Label: ham\n",
      " Mail: \n",
      "Subject: re : indian springs\r\n",
      "this deal is to book the teco pvr revenue . it is my understanding that teco\r\n",
      "just sends us a check , i haven ' t received an answer as to whether there is a\r\n",
      "predermined price associated with this deal or if teco just lets us know what\r\n",
      "we are giving . i can continue to chase this deal down if you need .\n",
      "\n",
      "\n",
      "Class Label: ham\n",
      " Mail: \n",
      "Subject: ehronline web address change\r\n",
      "this message is intended for ehronline users only .\r\n",
      "due to a recent change to ehronline , the url ( aka \" web address \" ) for accessing ehronline needs to be changed on your computer . the change involves adding the letter \" s \" to the \" http \" reference in the url . the url for accessing ehronline should be : https : / / ehronline . enron . com .\r\n",
      "this change should be made by those who have added the url as a favorite on the browser .\n",
      "\n",
      "\n"
     ]
    }
   ],
   "source": [
    "for a in data_set.iterrows():\n",
    "    print(f\"Class Label: {a[1][0]}\\n Mail: \\n{a[1][1]}\\n\\n\")\n",
    "    if a[0] == 5: break"
   ]
  },
  {
   "cell_type": "markdown",
   "id": "6204eb90",
   "metadata": {},
   "source": [
    "# Text Preprocessing"
   ]
  },
  {
   "cell_type": "code",
   "execution_count": 23,
   "id": "5cfcf937",
   "metadata": {},
   "outputs": [],
   "source": [
    "def clean_text(text):\n",
    "    \n",
    "    remove_punc = [char for char in text if char not in string.punctuation]\n",
    "    remove_punc = ''.join(remove_punc)\n",
    "    \n",
    "    remove_stopwords = [word for word in remove_punc.split() if word.lower not in stopwords.words(\"english\")]\n",
    "   \n",
    "    return remove_stopwords"
   ]
  },
  {
   "cell_type": "markdown",
   "id": "e895dbff",
   "metadata": {},
   "source": [
    "data_set.text.apply(clean_text)"
   ]
  },
  {
   "cell_type": "code",
   "execution_count": 24,
   "id": "ddf9bacb",
   "metadata": {},
   "outputs": [
    {
     "data": {
      "text/plain": [
       "0       [Subject, enron, methanol, meter, 988291, foll...\n",
       "1       [Subject, hpl, nom, january, 9, 2001, see, att...\n",
       "2       [Subject, neon, retreat, ho, ho, ho, around, w...\n",
       "3       [Subject, photoshop, windows, office, cheap, m...\n",
       "4       [Subject, indian, springs, deal, book, teco, p...\n",
       "                              ...                        \n",
       "5165    [Subject, fw, crosstex, energy, driscoll, ranc...\n",
       "5166    [Subject, put, 10, ft, transport, volumes, dec...\n",
       "5167    [Subject, 3, 4, 2000, following, noms, hpl, ta...\n",
       "5169    [Subject, industrial, worksheets, august, 2000...\n",
       "5170    [Subject, important, online, banking, alert, d...\n",
       "Name: text, Length: 4993, dtype: object"
      ]
     },
     "execution_count": 24,
     "metadata": {},
     "output_type": "execute_result"
    }
   ],
   "source": [
    "data_set.text.apply(clean_text)"
   ]
  },
  {
   "cell_type": "code",
   "execution_count": 25,
   "id": "79a89b6e",
   "metadata": {},
   "outputs": [
    {
     "data": {
      "text/plain": [
       "0    Subject : enron methanol ; meter # : 988291 fo...\n",
       "1    Subject : hpl nom january 9 , 2001 ( see attac...\n",
       "2    Subject : neon retreat ho ho ho , ' around won...\n",
       "3    Subject : photoshop , windows , office . cheap...\n",
       "4    Subject : : indian springs deal book teco pvr ...\n",
       "Name: text, dtype: object"
      ]
     },
     "execution_count": 25,
     "metadata": {},
     "output_type": "execute_result"
    }
   ],
   "source": [
    "data_set.text.head()"
   ]
  },
  {
   "cell_type": "markdown",
   "id": "c9199ede",
   "metadata": {},
   "source": [
    "# Separate data_set"
   ]
  },
  {
   "cell_type": "code",
   "execution_count": 26,
   "id": "3353306e",
   "metadata": {},
   "outputs": [
    {
     "name": "stdout",
     "output_type": "stream",
     "text": [
      "Shape of X is = (4993,)\n",
      "Shape of Y is = (4993,)\n"
     ]
    }
   ],
   "source": [
    "x = data_set.loc[:, 'text']\n",
    "y = data_set.loc[:, 'class']\n",
    "\n",
    "print(f\"Shape of X is = {x.shape}\\nShape of Y is = {y.shape}\")"
   ]
  },
  {
   "cell_type": "markdown",
   "id": "f18cd8a7",
   "metadata": {},
   "source": [
    "# Split data into train and test in 70:30"
   ]
  },
  {
   "cell_type": "code",
   "execution_count": 27,
   "id": "87b20e40",
   "metadata": {},
   "outputs": [
    {
     "name": "stdout",
     "output_type": "stream",
     "text": [
      "Shape of Traing Data = (3495,) \n",
      "Shape of Testing Data = (1498,)\n"
     ]
    }
   ],
   "source": [
    "xtrain,xtest,ytrain,ytest = train_test_split(x,y, test_size=0.30 , random_state = 1)\n",
    "\n",
    "print(f\"Shape of Traing Data = {xtrain.shape} \\nShape of Testing Data = {xtest.shape}\")"
   ]
  },
  {
   "cell_type": "markdown",
   "id": "f7adc435",
   "metadata": {},
   "source": [
    "# Feature Extaction using TfidfVectorizer"
   ]
  },
  {
   "cell_type": "code",
   "execution_count": 28,
   "id": "ceb30326",
   "metadata": {},
   "outputs": [
    {
     "name": "stdout",
     "output_type": "stream",
     "text": [
      "NO.of Tokens:  39871\n"
     ]
    }
   ],
   "source": [
    "tfIdf = TfidfVectorizer(analyzer=clean_text).fit(xtrain)\n",
    "\n",
    "print('NO.of Tokens: ',len(tfIdf.vocabulary_.keys()))\n"
   ]
  },
  {
   "cell_type": "code",
   "execution_count": 29,
   "id": "f45fe97f",
   "metadata": {},
   "outputs": [
    {
     "data": {
      "text/plain": [
       "scipy.sparse._csr.csr_matrix"
      ]
     },
     "execution_count": 29,
     "metadata": {},
     "output_type": "execute_result"
    }
   ],
   "source": [
    "tfIDF = tfIdf.transform(xtrain)\n",
    "type(tfIDF)"
   ]
  },
  {
   "cell_type": "code",
   "execution_count": 30,
   "id": "176addd0",
   "metadata": {},
   "outputs": [
    {
     "name": "stdout",
     "output_type": "stream",
     "text": [
      "Number of Observations: 3495\n",
      "Tokens/Features: 39871\n"
     ]
    }
   ],
   "source": [
    "print(f\"Number of Observations: {tfIDF.shape[0]}\\nTokens/Features: {tfIDF.shape[1]}\")"
   ]
  },
  {
   "cell_type": "markdown",
   "id": "c9b4dbee",
   "metadata": {},
   "source": [
    "\n",
    "# Hyper parameter tuning"
   ]
  },
  {
   "cell_type": "code",
   "execution_count": 31,
   "id": "f771ea09",
   "metadata": {},
   "outputs": [
    {
     "name": "stderr",
     "output_type": "stream",
     "text": [
      "[Parallel(n_jobs=1)]: Using backend SequentialBackend with 1 concurrent workers.\n",
      " This problem is unconstrained.\n"
     ]
    },
    {
     "name": "stdout",
     "output_type": "stream",
     "text": [
      "RUNNING THE L-BFGS-B CODE\n",
      "\n",
      "           * * *\n",
      "\n",
      "Machine precision = 2.220D-16\n",
      " N =        39872     M =           10\n",
      "\n",
      "At X0         0 variables are exactly at the bounds\n",
      "\n",
      "At iterate    0    f=  1.81674D+03    |proj g|=  5.30500D+02\n",
      "\n",
      "           * * *\n",
      "\n",
      "Tit   = total number of iterations\n",
      "Tnf   = total number of function evaluations\n",
      "Tnint = total number of segments explored during Cauchy searches\n",
      "Skip  = number of BFGS updates skipped\n",
      "Nact  = number of active bounds at final generalized Cauchy point\n",
      "Projg = norm of the final projected gradient\n",
      "F     = final function value\n",
      "\n",
      "           * * *\n",
      "\n",
      "   N    Tit     Tnf  Tnint  Skip  Nact     Projg        F\n",
      "39872     33     36      1     0     0   1.090D-02   6.896D+02\n",
      "  F =   689.57497721339246     \n",
      "\n",
      "CONVERGENCE: REL_REDUCTION_OF_F_<=_FACTR*EPSMCH             \n"
     ]
    },
    {
     "name": "stderr",
     "output_type": "stream",
     "text": [
      "[Parallel(n_jobs=1)]: Done   1 out of   1 | elapsed:    0.4s finished\n",
      "[Parallel(n_jobs=1)]: Using backend SequentialBackend with 1 concurrent workers.\n",
      " This problem is unconstrained.\n",
      "[Parallel(n_jobs=1)]: Done   1 out of   1 | elapsed:    0.2s finished\n",
      "[Parallel(n_jobs=1)]: Using backend SequentialBackend with 1 concurrent workers.\n"
     ]
    },
    {
     "name": "stdout",
     "output_type": "stream",
     "text": [
      "RUNNING THE L-BFGS-B CODE\n",
      "\n",
      "           * * *\n",
      "\n",
      "Machine precision = 2.220D-16\n",
      " N =        39872     M =           10\n",
      "\n",
      "At X0         0 variables are exactly at the bounds\n",
      "\n",
      "At iterate    0    f=  1.81674D+03    |proj g|=  5.30500D+02\n",
      "\n",
      "           * * *\n",
      "\n",
      "Tit   = total number of iterations\n",
      "Tnf   = total number of function evaluations\n",
      "Tnint = total number of segments explored during Cauchy searches\n",
      "Skip  = number of BFGS updates skipped\n",
      "Nact  = number of active bounds at final generalized Cauchy point\n",
      "Projg = norm of the final projected gradient\n",
      "F     = final function value\n",
      "\n",
      "           * * *\n",
      "\n",
      "   N    Tit     Tnf  Tnint  Skip  Nact     Projg        F\n",
      "39872     38     42      1     0     0   3.061D-02   6.980D+02\n",
      "  F =   698.04959477689260     \n",
      "\n",
      "CONVERGENCE: REL_REDUCTION_OF_F_<=_FACTR*EPSMCH             \n",
      "RUNNING THE L-BFGS-B CODE\n",
      "\n",
      "           * * *\n",
      "\n",
      "Machine precision = 2.220D-16\n",
      " N =        39872     M =           10\n",
      "\n",
      "At X0         0 variables are exactly at the bounds\n",
      "\n",
      "At iterate    0    f=  1.81674D+03    |proj g|=  5.30500D+02\n"
     ]
    },
    {
     "name": "stderr",
     "output_type": "stream",
     "text": [
      " This problem is unconstrained.\n",
      "[Parallel(n_jobs=1)]: Done   1 out of   1 | elapsed:    0.3s finished\n",
      "[Parallel(n_jobs=1)]: Using backend SequentialBackend with 1 concurrent workers.\n"
     ]
    },
    {
     "name": "stdout",
     "output_type": "stream",
     "text": [
      "\n",
      "           * * *\n",
      "\n",
      "Tit   = total number of iterations\n",
      "Tnf   = total number of function evaluations\n",
      "Tnint = total number of segments explored during Cauchy searches\n",
      "Skip  = number of BFGS updates skipped\n",
      "Nact  = number of active bounds at final generalized Cauchy point\n",
      "Projg = norm of the final projected gradient\n",
      "F     = final function value\n",
      "\n",
      "           * * *\n",
      "\n",
      "   N    Tit     Tnf  Tnint  Skip  Nact     Projg        F\n",
      "39872     35     38      1     0     0   6.432D-04   6.959D+02\n",
      "  F =   695.92542579081487     \n",
      "\n",
      "CONVERGENCE: REL_REDUCTION_OF_F_<=_FACTR*EPSMCH             \n",
      "RUNNING THE L-BFGS-B CODE\n",
      "\n",
      "           * * *\n",
      "\n",
      "Machine precision = 2.220D-16\n",
      " N =        39872     M =           10\n",
      "\n",
      "At X0         0 variables are exactly at the bounds\n",
      "\n",
      "At iterate    0    f=  1.81743D+03    |proj g|=  5.31000D+02\n"
     ]
    },
    {
     "name": "stderr",
     "output_type": "stream",
     "text": [
      " This problem is unconstrained.\n",
      "[Parallel(n_jobs=1)]: Done   1 out of   1 | elapsed:    0.3s finished\n",
      "[Parallel(n_jobs=1)]: Using backend SequentialBackend with 1 concurrent workers.\n"
     ]
    },
    {
     "name": "stdout",
     "output_type": "stream",
     "text": [
      "\n",
      "           * * *\n",
      "\n",
      "Tit   = total number of iterations\n",
      "Tnf   = total number of function evaluations\n",
      "Tnint = total number of segments explored during Cauchy searches\n",
      "Skip  = number of BFGS updates skipped\n",
      "Nact  = number of active bounds at final generalized Cauchy point\n",
      "Projg = norm of the final projected gradient\n",
      "F     = final function value\n",
      "\n",
      "           * * *\n",
      "\n",
      "   N    Tit     Tnf  Tnint  Skip  Nact     Projg        F\n",
      "39872     22     24      1     0     0   2.564D-03   6.935D+02\n",
      "  F =   693.46605104284049     \n",
      "\n",
      "CONVERGENCE: REL_REDUCTION_OF_F_<=_FACTR*EPSMCH             \n",
      "[LibLinear]iter  1 act 8.067e+02 pre 6.893e+02 delta 1.034e+01 f 1.817e+03 |g| 5.593e+02 CG   2\n",
      "cg reaches trust region boundary\n",
      "iter  2 act 2.875e+02 pre 2.559e+02 delta 1.249e+01 f 1.010e+03 |g| 1.601e+02 CG   3\n",
      "iter  3 act 3.011e+01 pre 2.845e+01 delta 1.249e+01 f 7.225e+02 |g| 5.457e+01 CG   2\n",
      "iter  4 act 2.795e+00 pre 2.803e+00 delta 1.249e+01 f 6.924e+02 |g| 9.233e+00 CG   3\n",
      "iter  5 act 1.497e-02 pre 1.496e-02 delta 1.249e+01 f 6.896e+02 |g| 4.063e-01 CG   3\n",
      "iter  6 act 1.141e-04 pre 1.141e-04 delta 1.249e+01 f 6.896e+02 |g| 1.954e-02 CG   4\n",
      "[LibLinear]iter  1 act 8.029e+02 pre 6.869e+02 delta 1.046e+01 f 1.817e+03 |g| 5.584e+02 CG   2\n",
      "cg reaches trust region boundary\n",
      "iter  2 act 2.844e+02 pre 2.537e+02 delta 1.259e+01 f 1.014e+03 |g| 1.593e+02 CG   3\n",
      "iter  3 act 2.892e+01 pre 2.746e+01 delta 1.259e+01 f 7.294e+02 |g| 5.367e+01 CG   2\n",
      "iter  4 act 2.423e+00 pre 2.432e+00 delta 1.259e+01 f 7.005e+02 |g| 8.574e+00 CG   3\n",
      "iter  5 act 1.356e-02 pre 1.354e-02 delta 1.259e+01 f 6.981e+02 |g| 3.622e-01 CG   3\n",
      "iter  6 act 9.914e-05 pre 9.913e-05 delta 1.259e+01 f 6.981e+02 |g| 1.810e-02 CG   4\n",
      "[LibLinear]iter  1 act 8.061e+02 pre 6.888e+02 delta 1.044e+01 f 1.817e+03 |g| 5.588e+02 CG   2\n",
      "cg reaches trust region boundary\n",
      "iter  2 act 2.844e+02 pre 2.538e+02 delta 1.256e+01 f 1.011e+03 |g| 1.598e+02 CG   3\n",
      "iter  3 act 2.752e+01 pre 2.595e+01 delta 1.256e+01 f 7.263e+02 |g| 5.310e+01 CG   2\n",
      "iter  4 act 2.832e+00 pre 2.840e+00 delta 1.256e+01 f 6.988e+02 |g| 9.009e+00 CG   3\n",
      "iter  5 act 1.454e-02 pre 1.453e-02 delta 1.256e+01 f 6.960e+02 |g| 3.935e-01 CG   3\n",
      "iter  6 act 1.065e-04 pre 1.065e-04 delta 1.256e+01 f 6.959e+02 |g| 1.917e-02 CG   4\n",
      "[LibLinear]iter  1 act 8.045e+02 pre 6.875e+02 delta 1.040e+01 f 1.817e+03 |g| 5.593e+02 CG   2\n",
      "cg reaches trust region boundary\n",
      "iter  2 act 2.869e+02 pre 2.555e+02 delta 1.255e+01 f 1.013e+03 |g| 1.597e+02 CG   3\n",
      "iter  3 act 2.990e+01 pre 2.832e+01 delta 1.255e+01 f 7.260e+02 |g| 5.429e+01 CG   2\n",
      "iter  4 act 2.593e+00 pre 2.602e+00 delta 1.255e+01 f 6.961e+02 |g| 8.961e+00 CG   3\n",
      "iter  5 act 1.340e-02 pre 1.340e-02 delta 1.255e+01 f 6.935e+02 |g| 3.729e-01 CG   3\n",
      "iter  6 act 1.035e-04 pre 1.035e-04 delta 1.255e+01 f 6.935e+02 |g| 1.842e-02 CG   4\n",
      "RUNNING THE L-BFGS-B CODE\n",
      "\n",
      "           * * *\n",
      "\n",
      "Machine precision = 2.220D-16\n",
      " N =        39872     M =           10\n",
      "\n",
      "At X0         0 variables are exactly at the bounds\n",
      "\n",
      "At iterate    0    f=  1.81674D+03    |proj g|=  5.30500D+02\n"
     ]
    },
    {
     "name": "stderr",
     "output_type": "stream",
     "text": [
      " This problem is unconstrained.\n",
      "[Parallel(n_jobs=1)]: Done   1 out of   1 | elapsed:    0.2s finished\n",
      "[Parallel(n_jobs=1)]: Using backend SequentialBackend with 1 concurrent workers.\n"
     ]
    },
    {
     "name": "stdout",
     "output_type": "stream",
     "text": [
      "\n",
      "           * * *\n",
      "\n",
      "Tit   = total number of iterations\n",
      "Tnf   = total number of function evaluations\n",
      "Tnint = total number of segments explored during Cauchy searches\n",
      "Skip  = number of BFGS updates skipped\n",
      "Nact  = number of active bounds at final generalized Cauchy point\n",
      "Projg = norm of the final projected gradient\n",
      "F     = final function value\n",
      "\n",
      "           * * *\n",
      "\n",
      "   N    Tit     Tnf  Tnint  Skip  Nact     Projg        F\n",
      "39872     37     41      1     0     0   7.895D-04   5.266D+02\n",
      "  F =   526.55078165976147     \n",
      "\n",
      "CONVERGENCE: REL_REDUCTION_OF_F_<=_FACTR*EPSMCH             \n",
      "RUNNING THE L-BFGS-B CODE\n",
      "\n",
      "           * * *\n",
      "\n",
      "Machine precision = 2.220D-16\n",
      " N =        39872     M =           10\n",
      "\n",
      "At X0         0 variables are exactly at the bounds\n",
      "\n",
      "At iterate    0    f=  1.81674D+03    |proj g|=  5.30500D+02\n"
     ]
    },
    {
     "name": "stderr",
     "output_type": "stream",
     "text": [
      " This problem is unconstrained.\n",
      "[Parallel(n_jobs=1)]: Done   1 out of   1 | elapsed:    0.3s finished\n",
      "[Parallel(n_jobs=1)]: Using backend SequentialBackend with 1 concurrent workers.\n",
      " This problem is unconstrained.\n"
     ]
    },
    {
     "name": "stdout",
     "output_type": "stream",
     "text": [
      "\n",
      "           * * *\n",
      "\n",
      "Tit   = total number of iterations\n",
      "Tnf   = total number of function evaluations\n",
      "Tnint = total number of segments explored during Cauchy searches\n",
      "Skip  = number of BFGS updates skipped\n",
      "Nact  = number of active bounds at final generalized Cauchy point\n",
      "Projg = norm of the final projected gradient\n",
      "F     = final function value\n",
      "\n",
      "           * * *\n",
      "\n",
      "   N    Tit     Tnf  Tnint  Skip  Nact     Projg        F\n",
      "39872     34     39      1     0     0   6.187D-04   5.335D+02\n",
      "  F =   533.52503153246482     \n",
      "\n",
      "CONVERGENCE: REL_REDUCTION_OF_F_<=_FACTR*EPSMCH             \n",
      "RUNNING THE L-BFGS-B CODE\n",
      "\n",
      "           * * *\n",
      "\n",
      "Machine precision = 2.220D-16\n",
      " N =        39872     M =           10\n",
      "\n",
      "At X0         0 variables are exactly at the bounds\n",
      "\n",
      "At iterate    0    f=  1.81674D+03    |proj g|=  5.30500D+02\n",
      "\n",
      "           * * *\n",
      "\n",
      "Tit   = total number of iterations\n",
      "Tnf   = total number of function evaluations\n",
      "Tnint = total number of segments explored during Cauchy searches\n",
      "Skip  = number of BFGS updates skipped\n",
      "Nact  = number of active bounds at final generalized Cauchy point\n",
      "Projg = norm of the final projected gradient\n",
      "F     = final function value\n",
      "\n",
      "           * * *\n",
      "\n",
      "   N    Tit     Tnf  Tnint  Skip  Nact     Projg        F\n",
      "39872     40     44      1     0     0   1.139D-02   5.328D+02\n",
      "  F =   532.75195033232615     \n",
      "\n",
      "CONVERGENCE: REL_REDUCTION_OF_F_<=_FACTR*EPSMCH             \n",
      "RUNNING THE L-BFGS-B CODE\n",
      "\n",
      "           * * *\n",
      "\n",
      "Machine precision = 2.220D-16\n",
      " N =        39872     M =           10\n",
      "\n",
      "At X0         0 variables are exactly at the bounds\n",
      "\n",
      "At iterate    0    f=  1.81743D+03    |proj g|=  5.31000D+02\n"
     ]
    },
    {
     "name": "stderr",
     "output_type": "stream",
     "text": [
      "[Parallel(n_jobs=1)]: Done   1 out of   1 | elapsed:    0.3s finished\n",
      "[Parallel(n_jobs=1)]: Using backend SequentialBackend with 1 concurrent workers.\n",
      " This problem is unconstrained.\n"
     ]
    },
    {
     "name": "stdout",
     "output_type": "stream",
     "text": [
      "\n",
      "           * * *\n",
      "\n",
      "Tit   = total number of iterations\n",
      "Tnf   = total number of function evaluations\n",
      "Tnint = total number of segments explored during Cauchy searches\n",
      "Skip  = number of BFGS updates skipped\n",
      "Nact  = number of active bounds at final generalized Cauchy point\n",
      "Projg = norm of the final projected gradient\n",
      "F     = final function value\n",
      "\n",
      "           * * *\n",
      "\n",
      "   N    Tit     Tnf  Tnint  Skip  Nact     Projg        F\n",
      "39872     44     49      1     0     0   1.599D-03   5.292D+02\n",
      "  F =   529.22005101431716     \n",
      "\n",
      "CONVERGENCE: REL_REDUCTION_OF_F_<=_FACTR*EPSMCH             \n",
      "[LibLinear]iter  1 act 2.062e+03 pre 1.801e+03 delta 1.665e+01 f 3.633e+03 |g| 1.119e+03 CG   3\n",
      "iter  2 act 4.342e+02 pre 3.683e+02 delta 1.665e+01 f 1.571e+03 |g| 3.343e+02 CG   3\n",
      "iter  3 act 7.531e+01 pre 6.876e+01 delta 1.665e+01 f 1.137e+03 |g| 1.161e+02 CG   3\n",
      "iter  4 act 6.897e+00 pre 5.839e+00 delta 1.665e+01 f 1.062e+03 |g| 2.398e+01 CG   2\n",
      "iter  5 act 1.786e+00 pre 1.763e+00 delta 1.665e+01 f 1.055e+03 |g| 4.190e+00 CG   3\n",
      "iter  6 act 2.632e-02 pre 2.621e-02 delta 1.665e+01 f 1.053e+03 |g| 4.776e-01 CG   4\n",
      "[LibLinear]iter  1 act 1.668e+03 pre 1.413e+03 delta 1.105e+01 f 3.633e+03 |g| 1.117e+03 CG   2\n",
      "cg reaches trust region boundary\n",
      "iter  2 act 6.697e+02 pre 5.553e+02 delta 1.400e+01 f 1.965e+03 |g| 3.362e+02 CG   2\n",
      "iter  3 act 2.075e+02 pre 1.890e+02 delta 1.400e+01 f 1.295e+03 |g| 1.532e+02 CG   2\n",
      "iter  4 act 1.955e+01 pre 1.948e+01 delta 1.400e+01 f 1.088e+03 |g| 3.753e+01 CG   2\n",
      "iter  5 act 1.285e+00 pre 1.279e+00 delta 1.400e+01 f 1.068e+03 |g| 3.998e+00 CG   3\n",
      "iter  6 act 2.202e-02 pre 2.199e-02 delta 1.400e+01 f 1.067e+03 |g| 3.857e-01 CG   4\n",
      "[LibLinear]iter  1 act 1.674e+03 pre 1.417e+03 delta 1.102e+01 f 3.633e+03 |g| 1.118e+03 CG   2\n",
      "cg reaches trust region boundary\n",
      "iter  2 act 6.740e+02 pre 5.619e+02 delta 1.401e+01 f 1.959e+03 |g| 3.368e+02 CG   3\n",
      "iter  3 act 1.969e+02 pre 1.785e+02 delta 1.401e+01 f 1.285e+03 |g| 1.502e+02 CG   2\n",
      "iter  4 act 2.088e+01 pre 2.084e+01 delta 1.401e+01 f 1.088e+03 |g| 3.835e+01 CG   2\n",
      "iter  5 act 1.756e+00 pre 1.746e+00 delta 1.401e+01 f 1.067e+03 |g| 4.341e+00 CG   3\n",
      "iter  6 act 2.329e-02 pre 2.325e-02 delta 1.401e+01 f 1.066e+03 |g| 4.557e-01 CG   4\n",
      "[LibLinear]iter  1 act 1.671e+03 pre 1.414e+03 delta 1.098e+01 f 3.635e+03 |g| 1.119e+03 CG   2\n",
      "cg reaches trust region boundary\n",
      "iter  2 act 6.745e+02 pre 5.586e+02 delta 1.396e+01 f 1.964e+03 |g| 3.367e+02 CG   2\n",
      "iter  3 act 2.089e+02 pre 1.896e+02 delta 1.396e+01 f 1.289e+03 |g| 1.537e+02 CG   2\n",
      "iter  4 act 2.060e+01 pre 2.049e+01 delta 1.396e+01 f 1.081e+03 |g| 3.899e+01 CG   2\n",
      "iter  5 act 1.429e+00 pre 1.421e+00 delta 1.396e+01 f 1.060e+03 |g| 4.296e+00 CG   3\n",
      "iter  6 act 2.278e-02 pre 2.274e-02 delta 1.396e+01 f 1.059e+03 |g| 4.133e-01 CG   4\n"
     ]
    },
    {
     "name": "stderr",
     "output_type": "stream",
     "text": [
      "[Parallel(n_jobs=1)]: Done   1 out of   1 | elapsed:    0.4s finished\n",
      "[Parallel(n_jobs=1)]: Using backend SequentialBackend with 1 concurrent workers.\n"
     ]
    },
    {
     "name": "stdout",
     "output_type": "stream",
     "text": [
      "RUNNING THE L-BFGS-B CODE\n",
      "\n",
      "           * * *\n",
      "\n",
      "Machine precision = 2.220D-16\n",
      " N =        39872     M =           10\n",
      "\n",
      "At X0         0 variables are exactly at the bounds\n",
      "\n",
      "At iterate    0    f=  2.42255D+03    |proj g|=  7.07500D+02\n",
      "\n",
      "           * * *\n",
      "\n",
      "Tit   = total number of iterations\n",
      "Tnf   = total number of function evaluations\n",
      "Tnint = total number of segments explored during Cauchy searches\n",
      "Skip  = number of BFGS updates skipped\n",
      "Nact  = number of active bounds at final generalized Cauchy point\n",
      "Projg = norm of the final projected gradient\n",
      "F     = final function value\n",
      "\n",
      "           * * *\n",
      "\n",
      "   N    Tit     Tnf  Tnint  Skip  Nact     Projg        F\n",
      "39872     44     50      1     0     0   2.680D-03   6.421D+02\n",
      "  F =   642.14484076891563     \n",
      "\n",
      "CONVERGENCE: REL_REDUCTION_OF_F_<=_FACTR*EPSMCH             \n",
      "Tuned Hpyerparameters : {'C': 2.0, 'penalty': 'l2', 'solver': 'lbfgs'}\n",
      "accuracy : 0.9879820105320825\n"
     ]
    },
    {
     "name": "stderr",
     "output_type": "stream",
     "text": [
      " This problem is unconstrained.\n",
      "[Parallel(n_jobs=1)]: Done   1 out of   1 | elapsed:    0.3s finished\n"
     ]
    }
   ],
   "source": [
    "lr = LogisticRegression(verbose=1)\n",
    "\n",
    "grid={\"C\":[float(i) for i in range(1, 3)], \"penalty\":[\"l2\"], \"solver\":[ 'lbfgs', 'liblinear']}\n",
    "logreg_cv=GridSearchCV(lr, grid, cv=4)\n",
    "logreg_cv.fit(tfIDF,ytrain)\n",
    "\n",
    "print(\"Tuned Hpyerparameters :\",logreg_cv.best_params_)\n",
    "print(\"accuracy :\",logreg_cv.best_score_)"
   ]
  },
  {
   "cell_type": "code",
   "execution_count": 32,
   "id": "79c7124f",
   "metadata": {},
   "outputs": [
    {
     "data": {
      "text/html": [
       "<style>#sk-container-id-2 {color: black;background-color: white;}#sk-container-id-2 pre{padding: 0;}#sk-container-id-2 div.sk-toggleable {background-color: white;}#sk-container-id-2 label.sk-toggleable__label {cursor: pointer;display: block;width: 100%;margin-bottom: 0;padding: 0.3em;box-sizing: border-box;text-align: center;}#sk-container-id-2 label.sk-toggleable__label-arrow:before {content: \"▸\";float: left;margin-right: 0.25em;color: #696969;}#sk-container-id-2 label.sk-toggleable__label-arrow:hover:before {color: black;}#sk-container-id-2 div.sk-estimator:hover label.sk-toggleable__label-arrow:before {color: black;}#sk-container-id-2 div.sk-toggleable__content {max-height: 0;max-width: 0;overflow: hidden;text-align: left;background-color: #f0f8ff;}#sk-container-id-2 div.sk-toggleable__content pre {margin: 0.2em;color: black;border-radius: 0.25em;background-color: #f0f8ff;}#sk-container-id-2 input.sk-toggleable__control:checked~div.sk-toggleable__content {max-height: 200px;max-width: 100%;overflow: auto;}#sk-container-id-2 input.sk-toggleable__control:checked~label.sk-toggleable__label-arrow:before {content: \"▾\";}#sk-container-id-2 div.sk-estimator input.sk-toggleable__control:checked~label.sk-toggleable__label {background-color: #d4ebff;}#sk-container-id-2 div.sk-label input.sk-toggleable__control:checked~label.sk-toggleable__label {background-color: #d4ebff;}#sk-container-id-2 input.sk-hidden--visually {border: 0;clip: rect(1px 1px 1px 1px);clip: rect(1px, 1px, 1px, 1px);height: 1px;margin: -1px;overflow: hidden;padding: 0;position: absolute;width: 1px;}#sk-container-id-2 div.sk-estimator {font-family: monospace;background-color: #f0f8ff;border: 1px dotted black;border-radius: 0.25em;box-sizing: border-box;margin-bottom: 0.5em;}#sk-container-id-2 div.sk-estimator:hover {background-color: #d4ebff;}#sk-container-id-2 div.sk-parallel-item::after {content: \"\";width: 100%;border-bottom: 1px solid gray;flex-grow: 1;}#sk-container-id-2 div.sk-label:hover label.sk-toggleable__label {background-color: #d4ebff;}#sk-container-id-2 div.sk-serial::before {content: \"\";position: absolute;border-left: 1px solid gray;box-sizing: border-box;top: 0;bottom: 0;left: 50%;z-index: 0;}#sk-container-id-2 div.sk-serial {display: flex;flex-direction: column;align-items: center;background-color: white;padding-right: 0.2em;padding-left: 0.2em;position: relative;}#sk-container-id-2 div.sk-item {position: relative;z-index: 1;}#sk-container-id-2 div.sk-parallel {display: flex;align-items: stretch;justify-content: center;background-color: white;position: relative;}#sk-container-id-2 div.sk-item::before, #sk-container-id-2 div.sk-parallel-item::before {content: \"\";position: absolute;border-left: 1px solid gray;box-sizing: border-box;top: 0;bottom: 0;left: 50%;z-index: -1;}#sk-container-id-2 div.sk-parallel-item {display: flex;flex-direction: column;z-index: 1;position: relative;background-color: white;}#sk-container-id-2 div.sk-parallel-item:first-child::after {align-self: flex-end;width: 50%;}#sk-container-id-2 div.sk-parallel-item:last-child::after {align-self: flex-start;width: 50%;}#sk-container-id-2 div.sk-parallel-item:only-child::after {width: 0;}#sk-container-id-2 div.sk-dashed-wrapped {border: 1px dashed gray;margin: 0 0.4em 0.5em 0.4em;box-sizing: border-box;padding-bottom: 0.4em;background-color: white;}#sk-container-id-2 div.sk-label label {font-family: monospace;font-weight: bold;display: inline-block;line-height: 1.2em;}#sk-container-id-2 div.sk-label-container {text-align: center;}#sk-container-id-2 div.sk-container {/* jupyter's `normalize.less` sets `[hidden] { display: none; }` but bootstrap.min.css set `[hidden] { display: none !important; }` so we also need the `!important` here to be able to override the default hidden behavior on the sphinx rendered scikit-learn.org. See: https://github.com/scikit-learn/scikit-learn/issues/21755 */display: inline-block !important;position: relative;}#sk-container-id-2 div.sk-text-repr-fallback {display: none;}</style><div id=\"sk-container-id-2\" class=\"sk-top-container\"><div class=\"sk-text-repr-fallback\"><pre>LogisticRegression(solver=&#x27;liblinear&#x27;)</pre><b>In a Jupyter environment, please rerun this cell to show the HTML representation or trust the notebook. <br />On GitHub, the HTML representation is unable to render, please try loading this page with nbviewer.org.</b></div><div class=\"sk-container\" hidden><div class=\"sk-item\"><div class=\"sk-estimator sk-toggleable\"><input class=\"sk-toggleable__control sk-hidden--visually\" id=\"sk-estimator-id-2\" type=\"checkbox\" checked><label for=\"sk-estimator-id-2\" class=\"sk-toggleable__label sk-toggleable__label-arrow\">LogisticRegression</label><div class=\"sk-toggleable__content\"><pre>LogisticRegression(solver=&#x27;liblinear&#x27;)</pre></div></div></div></div></div>"
      ],
      "text/plain": [
       "LogisticRegression(solver='liblinear')"
      ]
     },
     "execution_count": 32,
     "metadata": {},
     "output_type": "execute_result"
    }
   ],
   "source": [
    "lr = LogisticRegression(solver='liblinear', penalty ='l2' , C = 1.0)\n",
    "lr.fit(tfIDF, ytrain)"
   ]
  },
  {
   "cell_type": "markdown",
   "id": "3b624389",
   "metadata": {},
   "source": [
    "# Model Evaluate on the Test data\n"
   ]
  },
  {
   "cell_type": "code",
   "execution_count": 33,
   "id": "58b1b1cd",
   "metadata": {},
   "outputs": [
    {
     "name": "stdout",
     "output_type": "stream",
     "text": [
      "Number of Observations: 1498\n",
      "Tokens/Features: 39871\n"
     ]
    }
   ],
   "source": [
    "test_tfIDF = tfIdf.transform(xtest)\n",
    "test_tfIDF = test_tfIDF.toarray()\n",
    "print(f\"Number of Observations: {test_tfIDF.shape[0]}\\nTokens/Features: {test_tfIDF.shape[1]}\")"
   ]
  },
  {
   "cell_type": "code",
   "execution_count": 34,
   "id": "99fd35cd",
   "metadata": {},
   "outputs": [],
   "source": [
    "prediction = lr.predict(test_tfIDF)"
   ]
  },
  {
   "cell_type": "code",
   "execution_count": 35,
   "id": "5806d286",
   "metadata": {},
   "outputs": [
    {
     "name": "stdout",
     "output_type": "stream",
     "text": [
      "Accuracy = 98.5981308411215\n"
     ]
    }
   ],
   "source": [
    "print(f\"Accuracy = {accuracy_score(ytest, prediction) * 100}\")"
   ]
  },
  {
   "cell_type": "code",
   "execution_count": 36,
   "id": "2fc6c903",
   "metadata": {},
   "outputs": [
    {
     "name": "stdout",
     "output_type": "stream",
     "text": [
      "              precision    recall  f1-score   support\n",
      "\n",
      "           0       1.00      0.98      0.99      1076\n",
      "           1       0.96      1.00      0.98       422\n",
      "\n",
      "    accuracy                           0.99      1498\n",
      "   macro avg       0.98      0.99      0.98      1498\n",
      "weighted avg       0.99      0.99      0.99      1498\n",
      "\n"
     ]
    }
   ],
   "source": [
    "# 0 - Not Spam / Ham\n",
    "# 1 - Spam \n",
    "print(classification_report(ytest, prediction))"
   ]
  },
  {
   "cell_type": "code",
   "execution_count": 37,
   "id": "841095b9",
   "metadata": {},
   "outputs": [
    {
     "data": {
      "image/png": "[encoded data removed]",
      "text/plain": [
       "<Figure size 432x432 with 1 Axes>"
      ]
     },
     "metadata": {
      "needs_background": "light"
     },
     "output_type": "display_data"
    }
   ],
   "source": [
    "cmat = confusion_matrix(ytest, prediction)\n",
    "plt.figure(figsize = (6, 6))\n",
    "sns.heatmap(cmat, annot = True, cmap = 'Paired', cbar = False, fmt=\"d\", xticklabels=['Ham / Not_Spam', 'Spam'], yticklabels=['Ham / Not_Spam', 'Spam']);"
   ]
  },
  {
   "cell_type": "markdown",
   "id": "910181be",
   "metadata": {},
   "source": [
    "# 😀Start Prediction😉"
   ]
  },
  {
   "cell_type": "code",
   "execution_count": 40,
   "id": "039b35f3",
   "metadata": {},
   "outputs": [],
   "source": [
    "# 'You won 1000$ prize money in lottery. Click here to avail'\n",
    "cVect = CountVectorizer()\n",
    "def predict_class(lr):\n",
    "    text = input('Enter Text(Subject of the mail): ')\n",
    "    text = [' '.join([ word for word in word_tokenize(text)  if not word in stop_words])]\n",
    "    tf_idf = tfIdf.fit_transform(text).toarray()\n",
    "    print('Predicted Class:', end = ' ')\n",
    "    print('Spam' if lr.predict(tf_idf)[0] else 'Not Spam') \n",
    "    prob = lr.predict_proba(tf_idf)*100\n",
    "    print(f\"Not Spam: {prob[0][0]}%\\nSpam: {prob[0][1]}%\")\n",
    "    plt.figure(figsize=(12, 6))\n",
    "    sns.barplot(x =['Not Spam', 'Spam'] , y = [prob[0][0], prob[0][1]])\n",
    "    plt.xlabel('Class')\n",
    "    plt.ylabel('Probalility')\n",
    "    plt.show()"
   ]
  },
  {
   "cell_type": "code",
   "execution_count": null,
   "id": "4c243b46",
   "metadata": {},
   "outputs": [],
   "source": [
    "predict_class(lr)"
   ]
  },
  {
   "cell_type": "code",
   "execution_count": null,
   "id": "fa0f7417",
   "metadata": {},
   "outputs": [],
   "source": []
  },
  {
   "cell_type": "code",
   "execution_count": null,
   "id": "5e97c6b6",
   "metadata": {},
   "outputs": [],
   "source": []
  }
 ],
 "metadata": {
  "kernelspec": {
   "display_name": "Python 3 (ipykernel)",
   "language": "python",
   "name": "python3"
  },
  "language_info": {
   "codemirror_mode": {
    "name": "ipython",
    "version": 3
   },
   "file_extension": ".py",
   "mimetype": "text/x-python",
   "name": "python",
   "nbconvert_exporter": "python",
   "pygments_lexer": "ipython3",
   "version": "3.10.4"
  }
 },
 "nbformat": 4,
 "nbformat_minor": 5
}
